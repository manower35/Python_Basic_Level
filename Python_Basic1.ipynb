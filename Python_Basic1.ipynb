{
  "nbformat": 4,
  "nbformat_minor": 0,
  "metadata": {
    "colab": {
      "provenance": [],
      "authorship_tag": "ABX9TyN5HDAf4zMVRw2atCmpLHMO",
      "include_colab_link": true
    },
    "kernelspec": {
      "name": "python3",
      "display_name": "Python 3"
    },
    "language_info": {
      "name": "python"
    }
  },
  "cells": [
    {
      "cell_type": "markdown",
      "metadata": {
        "id": "view-in-github",
        "colab_type": "text"
      },
      "source": [
        "<a href=\"https://colab.research.google.com/github/manower35/Python_Basic_Level/blob/main/Python_Basic1.ipynb\" target=\"_parent\"><img src=\"https://colab.research.google.com/assets/colab-badge.svg\" alt=\"Open In Colab\"/></a>"
      ]
    },
    {
      "cell_type": "markdown",
      "source": [
        "Formatting String"
      ],
      "metadata": {
        "id": "SwX-xH8iDra3"
      }
    },
    {
      "cell_type": "code",
      "execution_count": null,
      "metadata": {
        "id": "jVgFN6tVDju6"
      },
      "outputs": [],
      "source": [
        "name = \"Alice\"\n",
        "age = 30"
      ]
    },
    {
      "cell_type": "markdown",
      "source": [
        "How to print \"Hello, my name is Alice and I am 30 years old.\"?"
      ],
      "metadata": {
        "id": "QHEvGblhEKCe"
      }
    },
    {
      "cell_type": "code",
      "source": [
        "# Notice %s for the string and %d for the integer\n",
        "my_string = \"Hello, my name is %s and I am %d years old.\""
      ],
      "metadata": {
        "id": "5N_ksAL5D_Qy"
      },
      "execution_count": null,
      "outputs": []
    },
    {
      "cell_type": "code",
      "source": [
        "print(my_string % (name, age))"
      ],
      "metadata": {
        "colab": {
          "base_uri": "https://localhost:8080/"
        },
        "id": "cs6FY0GBEaRq",
        "outputId": "86a2db31-b55a-489b-bb4a-cb069ba8aa21"
      },
      "execution_count": null,
      "outputs": [
        {
          "output_type": "stream",
          "name": "stdout",
          "text": [
            "Hello, my name is Alice and I am 30 years old.\n"
          ]
        }
      ]
    },
    {
      "cell_type": "code",
      "source": [
        "price = 49.95123\n",
        "print(\"The price is $%.3f\" % price)"
      ],
      "metadata": {
        "colab": {
          "base_uri": "https://localhost:8080/"
        },
        "id": "2jsbHtxPElVb",
        "outputId": "12061adf-d1b9-40fb-d85f-6d0915b78674"
      },
      "execution_count": null,
      "outputs": [
        {
          "output_type": "stream",
          "name": "stdout",
          "text": [
            "The price is $49.951\n"
          ]
        }
      ]
    },
    {
      "cell_type": "markdown",
      "source": [
        "The .format() String Method (A Better Way)"
      ],
      "metadata": {
        "id": "eYPPSQ9dE3tX"
      }
    },
    {
      "cell_type": "code",
      "source": [
        "name = \"Manower\"\n",
        "city = \"Hyderabad\"\n",
        "my_string = \"My name is {} and I live in {}.\"\n",
        "\n",
        "print(my_string.format(name, city))"
      ],
      "metadata": {
        "colab": {
          "base_uri": "https://localhost:8080/"
        },
        "id": "D7Kzk-IzEtwD",
        "outputId": "74174478-870a-40e5-d693-8b66664a9533"
      },
      "execution_count": null,
      "outputs": [
        {
          "output_type": "stream",
          "name": "stdout",
          "text": [
            "My name is Manower and I live in Hyderabad.\n"
          ]
        }
      ]
    },
    {
      "cell_type": "markdown",
      "source": [
        "F-Strings (The Modern and Best Way)"
      ],
      "metadata": {
        "id": "sMmsa38nFj6B"
      }
    },
    {
      "cell_type": "code",
      "source": [
        "name = \"Charlie\"\n",
        "item = \"laptop\"\n",
        "cost = 1200.50\n",
        "\n",
        "# Notice the 'f' at the beginning!\n",
        "my_string = f\"Hello {name}, your new {item} will cost ${cost}.\"\n",
        "print(my_string)"
      ],
      "metadata": {
        "colab": {
          "base_uri": "https://localhost:8080/"
        },
        "id": "z1G5rJ0fFNkq",
        "outputId": "92522cdc-a5ea-42d1-844b-7504ae1c37f1"
      },
      "execution_count": null,
      "outputs": [
        {
          "output_type": "stream",
          "name": "stdout",
          "text": [
            "Hello Charlie, your new laptop will cost $1200.5.\n"
          ]
        }
      ]
    },
    {
      "cell_type": "markdown",
      "source": [
        "if Statement"
      ],
      "metadata": {
        "id": "IZV_JJ9KHDMC"
      }
    },
    {
      "cell_type": "markdown",
      "source": [
        "if condition:\n",
        "    # This code is indented\n",
        "    # It will only run if the condition is True"
      ],
      "metadata": {
        "id": "6zDFubISHY96"
      }
    },
    {
      "cell_type": "code",
      "source": [
        "# 1. We create a variable to test\n",
        "number = 10\n",
        "\n",
        "# 2. We write our if statement\n",
        "if number > 0:\n",
        "    # 3. This is the indented block\n",
        "    print(\"The number is positive!\")\n",
        "\n",
        "# 4. This line is NOT indented, so it always runs\n",
        "print(\"This message will always be displayed.\")"
      ],
      "metadata": {
        "colab": {
          "base_uri": "https://localhost:8080/"
        },
        "id": "ZmZH_AE0Fv_H",
        "outputId": "9c0e28ff-076f-4550-9123-a496314b4c92"
      },
      "execution_count": null,
      "outputs": [
        {
          "output_type": "stream",
          "name": "stdout",
          "text": [
            "The number is positive!\n",
            "This message will always be displayed.\n"
          ]
        }
      ]
    },
    {
      "cell_type": "code",
      "source": [
        "number = -5\n",
        "\n",
        "if number > 0:\n",
        "    # This indented code will be SKIPPED\n",
        "    print(\"The number is positive!\")\n",
        "\n",
        "print(\"This message will always be displayed.\")"
      ],
      "metadata": {
        "colab": {
          "base_uri": "https://localhost:8080/"
        },
        "id": "CjB9kzp3HIsh",
        "outputId": "909c8c3d-f992-4c83-b89f-7bfa517630ac"
      },
      "execution_count": null,
      "outputs": [
        {
          "output_type": "stream",
          "name": "stdout",
          "text": [
            "This message will always be displayed.\n"
          ]
        }
      ]
    },
    {
      "cell_type": "markdown",
      "source": [
        "The else Statement"
      ],
      "metadata": {
        "id": "s3K6tix8H1yc"
      }
    },
    {
      "cell_type": "markdown",
      "source": [
        "if condition:\n",
        "    # Runs if condition is True\n",
        "else:\n",
        "    # Runs if condition is False"
      ],
      "metadata": {
        "id": "FjZzb-EBIHkd"
      }
    },
    {
      "cell_type": "code",
      "source": [
        "age = 15\n",
        "\n",
        "if age >= 18:\n",
        "    print(\"You are old enough to vote!\")\n",
        "else:\n",
        "    print(\"Sorry, you are too young to vote.\")\n",
        "\n",
        "print(\"End of program.\")"
      ],
      "metadata": {
        "colab": {
          "base_uri": "https://localhost:8080/"
        },
        "id": "laDv8yezHv66",
        "outputId": "42ea0a8f-e3b4-4586-d04e-057f6ab7c92b"
      },
      "execution_count": null,
      "outputs": [
        {
          "output_type": "stream",
          "name": "stdout",
          "text": [
            "Sorry, you are too young to vote.\n",
            "End of program.\n"
          ]
        }
      ]
    },
    {
      "cell_type": "markdown",
      "source": [
        "if first_condition:\n",
        "    # Runs if first_condition is True\n",
        "elif second_condition:\n",
        "    # Runs if first_condition is False, AND second_condition is True\n",
        "else:\n",
        "    # Runs if ALL the above conditions were False"
      ],
      "metadata": {
        "id": "kzug_hAAIkCA"
      }
    },
    {
      "cell_type": "code",
      "source": [
        "score = 85\n",
        "\n",
        "if score >= 90:\n",
        "    print(\"Grade: A\")\n",
        "elif score >= 80:\n",
        "    print(\"Grade: B\")\n",
        "elif score >= 70:\n",
        "    print(\"Grade: C\")\n",
        "else:\n",
        "    print(\"Grade: F\")"
      ],
      "metadata": {
        "colab": {
          "base_uri": "https://localhost:8080/"
        },
        "id": "ZOagOO0vIdF-",
        "outputId": "394dd29a-d2d5-4d23-ec18-4830dde18b73"
      },
      "execution_count": null,
      "outputs": [
        {
          "output_type": "stream",
          "name": "stdout",
          "text": [
            "Grade: B\n"
          ]
        }
      ]
    },
    {
      "cell_type": "markdown",
      "source": [
        " Dictionary: Real-World Dictionary\n",
        "\n",
        " A list of words. For each word, there is a definition.\n",
        " Key: The \"word\" you look up. It must be unique.\n",
        "Value: The \"definition\" or data associated with that key."
      ],
      "metadata": {
        "id": "6eNRuZSlJ8K2"
      }
    },
    {
      "cell_type": "code",
      "source": [
        "# An empty dictionary\n",
        "empty_dict = {}\n",
        "\n",
        "# A dictionary with some information\n",
        "user_profile = {\n",
        "    \"name\": \"Alice\",\n",
        "    \"age\": 30,\n",
        "    \"city\": \"New York\",\n",
        "    \"is_active\": True\n",
        "}\n",
        "\n",
        "# Let's print it to see what it looks like\n",
        "print(user_profile)"
      ],
      "metadata": {
        "colab": {
          "base_uri": "https://localhost:8080/"
        },
        "id": "gBs0wxCeI2Th",
        "outputId": "0fa11eca-4e08-461a-d2ea-1246d3d1be9f"
      },
      "execution_count": null,
      "outputs": [
        {
          "output_type": "stream",
          "name": "stdout",
          "text": [
            "{'name': 'Alice', 'age': 30, 'city': 'New York', 'is_active': True}\n"
          ]
        }
      ]
    },
    {
      "cell_type": "code",
      "source": [],
      "metadata": {
        "id": "JcVUND2YKmM7"
      },
      "execution_count": null,
      "outputs": []
    }
  ]
}