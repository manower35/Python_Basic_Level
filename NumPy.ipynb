{
  "nbformat": 4,
  "nbformat_minor": 0,
  "metadata": {
    "colab": {
      "provenance": [],
      "authorship_tag": "ABX9TyN24cL4NtJIKVS7v+liT8I7",
      "include_colab_link": true
    },
    "kernelspec": {
      "name": "python3",
      "display_name": "Python 3"
    },
    "language_info": {
      "name": "python"
    }
  },
  "cells": [
    {
      "cell_type": "markdown",
      "metadata": {
        "id": "view-in-github",
        "colab_type": "text"
      },
      "source": [
        "<a href=\"https://colab.research.google.com/github/manower35/Python_Basic_Level/blob/main/NumPy.ipynb\" target=\"_parent\"><img src=\"https://colab.research.google.com/assets/colab-badge.svg\" alt=\"Open In Colab\"/></a>"
      ]
    },
    {
      "cell_type": "markdown",
      "metadata": {
        "id": "174a4d4b"
      },
      "source": [
        "NumPy (Numerical Python) is a library in Python used for working with arrays. It also has functions for working with domains like linear algebra, fourier transform, and matrices."
      ]
    },
    {
      "cell_type": "code",
      "metadata": {
        "colab": {
          "base_uri": "https://localhost:8080/"
        },
        "id": "f713be5b",
        "outputId": "a0e77b61-7a3b-4161-c956-1b971cdc09ec"
      },
      "source": [
        "import numpy as np\n",
        "\n",
        "# Create a NumPy array\n",
        "my_array = np.array([1, 2, 3, 4, 5])\n",
        "\n",
        "# Print the array\n",
        "print(my_array)"
      ],
      "execution_count": 1,
      "outputs": [
        {
          "output_type": "stream",
          "name": "stdout",
          "text": [
            "[1 2 3 4 5]\n"
          ]
        }
      ]
    },
    {
      "cell_type": "markdown",
      "metadata": {
        "id": "bd21359f"
      },
      "source": [
        "NumPy arrays are more efficient for numerical operations compared to standard Python lists."
      ]
    },
    {
      "cell_type": "code",
      "source": [
        "# Perform a simple operation (add 5 to each element)\n",
        "new_array = my_array + 5\n",
        "\n",
        "# Print the new array\n",
        "print(new_array)"
      ],
      "metadata": {
        "colab": {
          "base_uri": "https://localhost:8080/"
        },
        "id": "4ajsucw4u7Mt",
        "outputId": "6c7c868e-ee4a-4ecf-9474-98ab9f00a5f1"
      },
      "execution_count": 2,
      "outputs": [
        {
          "output_type": "stream",
          "name": "stdout",
          "text": [
            "[ 6  7  8  9 10]\n"
          ]
        }
      ]
    },
    {
      "cell_type": "markdown",
      "metadata": {
        "id": "a9dda5c1"
      },
      "source": [
        "NumPy is a cornerstone in AI and machine learning due to its efficiency in handling large datasets and performing mathematical operations. Here are some key ways it's used:\n",
        "\n",
        "*   **Data Representation:** NumPy arrays are the standard way to represent data in most ML libraries. Datasets, images, and other forms of data are often stored as NumPy arrays.\n",
        "\n",
        "*   **Mathematical Operations:** Many ML algorithms involve extensive mathematical operations like matrix multiplication, vector addition, and element-wise calculations. NumPy provides highly optimized functions for these operations.\n",
        "\n",
        "*   **Integration with Libraries:** Libraries like scikit-learn, TensorFlow, and PyTorch are built on top of or integrate seamlessly with NumPy, allowing you to use NumPy arrays directly in your models.\n",
        "\n",
        "*   **Data Preprocessing:** NumPy is used for tasks like scaling, normalization, and reshaping data before feeding it into an ML model.\n",
        "\n",
        "*   **Model Implementation:** You can use NumPy to implement ML algorithms from scratch, which can be helpful for understanding how they work.\n",
        "\n",
        "Here's a simple example demonstrating matrix multiplication, a common operation in ML:"
      ]
    },
    {
      "cell_type": "code",
      "metadata": {
        "colab": {
          "base_uri": "https://localhost:8080/"
        },
        "id": "64f5da60",
        "outputId": "0f64417f-102a-4e8c-fb69-ff5ccb733b2e"
      },
      "source": [
        "import numpy as np\n",
        "\n",
        "# Create two NumPy matrices\n",
        "matrix_a = np.array([[1, 2], [3, 4]])\n",
        "matrix_b = np.array([[5, 6], [7, 8]])\n",
        "\n",
        "# Perform matrix multiplication\n",
        "result_matrix = np.dot(matrix_a, matrix_b)\n",
        "\n",
        "# Print the result\n",
        "print(\"Matrix A:\")\n",
        "print(matrix_a)\n",
        "print(\"\\nMatrix B:\")\n",
        "print(matrix_b)\n",
        "print(\"\\nResult of matrix multiplication:\")\n",
        "print(result_matrix)"
      ],
      "execution_count": 3,
      "outputs": [
        {
          "output_type": "stream",
          "name": "stdout",
          "text": [
            "Matrix A:\n",
            "[[1 2]\n",
            " [3 4]]\n",
            "\n",
            "Matrix B:\n",
            "[[5 6]\n",
            " [7 8]]\n",
            "\n",
            "Result of matrix multiplication:\n",
            "[[19 22]\n",
            " [43 50]]\n"
          ]
        }
      ]
    },
    {
      "cell_type": "markdown",
      "metadata": {
        "id": "e86967da"
      },
      "source": [
        "NumPy and machine learning:\n",
        "\n",
        "*   **Scalar:** A single value.\n",
        "*   **Matrix:** A 2D dimensional array\n",
        "*   **Tensor:** A multi-dimensional array. A 1D array is a vector, a 2D array is a matrix, and arrays with more dimensions are generally referred to as tensors.\n",
        "\n",
        "Here are examples using NumPy:"
      ]
    },
    {
      "cell_type": "code",
      "metadata": {
        "colab": {
          "base_uri": "https://localhost:8080/"
        },
        "id": "65a90528",
        "outputId": "92cc53bb-192f-4de9-f1a0-9dabb467d6fd"
      },
      "source": [
        "import numpy as np\n",
        "\n",
        "# Scalar (0-dimensional array)\n",
        "scalar = np.array(10)\n",
        "print(\"Scalar:\")\n",
        "print(scalar)\n",
        "print(\"Dimension:\", scalar.ndim)\n",
        "print(\"Shape:\", scalar.shape)"
      ],
      "execution_count": 7,
      "outputs": [
        {
          "output_type": "stream",
          "name": "stdout",
          "text": [
            "Scalar:\n",
            "10\n",
            "Dimension: 0\n",
            "Shape: ()\n"
          ]
        }
      ]
    },
    {
      "cell_type": "code",
      "source": [
        "# Vector (1-dimensional array)\n",
        "vector = np.array([1, 2, 3, 4])\n",
        "print(\"\\nVector:\")\n",
        "print(vector)\n",
        "print(\"Dimension:\", vector.ndim)\n",
        "print(\"Shape:\", vector.shape)\n"
      ],
      "metadata": {
        "colab": {
          "base_uri": "https://localhost:8080/"
        },
        "id": "2dPGziHhxCLF",
        "outputId": "783ef0fb-6692-4fa7-9f53-bc460a4b34b0"
      },
      "execution_count": 5,
      "outputs": [
        {
          "output_type": "stream",
          "name": "stdout",
          "text": [
            "\n",
            "Vector:\n",
            "[1 2 3 4]\n",
            "Dimension: 1\n",
            "Shape: (4,)\n"
          ]
        }
      ]
    },
    {
      "cell_type": "code",
      "source": [
        "# Matrix (2-dimensional array)\n",
        "matrix = np.array([[1, 2, 3], [4, 5, 6]])\n",
        "print(\"\\nMatrix:\")\n",
        "print(matrix)\n",
        "print(\"Dimension:\", matrix.ndim)\n",
        "print(\"Shape:\", matrix.shape)"
      ],
      "metadata": {
        "colab": {
          "base_uri": "https://localhost:8080/"
        },
        "id": "Y9BC-yrGxF-b",
        "outputId": "d5cb0af2-10bb-47aa-de79-d00de4d681ba"
      },
      "execution_count": 6,
      "outputs": [
        {
          "output_type": "stream",
          "name": "stdout",
          "text": [
            "\n",
            "Matrix:\n",
            "[[1 2 3]\n",
            " [4 5 6]]\n",
            "Dimension: 2\n",
            "Shape: (2, 3)\n"
          ]
        }
      ]
    },
    {
      "cell_type": "code",
      "source": [
        "# 3D Tensor\n",
        "tensor_3d = np.array([[[1, 2], [3, 4]], [[5, 6], [7, 8]]])\n",
        "print(\"\\n3D Tensor:\")\n",
        "print(tensor_3d)\n",
        "print(\"Dimension:\", tensor_3d.ndim)\n",
        "print(\"Shape:\", tensor_3d.shape)"
      ],
      "metadata": {
        "colab": {
          "base_uri": "https://localhost:8080/"
        },
        "id": "Cj1Bsr_IxNWH",
        "outputId": "47bc24f2-d8ca-46d3-b43a-0ed226e68dd8"
      },
      "execution_count": 8,
      "outputs": [
        {
          "output_type": "stream",
          "name": "stdout",
          "text": [
            "\n",
            "3D Tensor:\n",
            "[[[1 2]\n",
            "  [3 4]]\n",
            "\n",
            " [[5 6]\n",
            "  [7 8]]]\n",
            "Dimension: 3\n",
            "Shape: (2, 2, 2)\n"
          ]
        }
      ]
    },
    {
      "cell_type": "code",
      "metadata": {
        "colab": {
          "base_uri": "https://localhost:8080/"
        },
        "id": "7b90c93f",
        "outputId": "bc7f0751-4c79-41a1-e9a8-c42fe7f49452"
      },
      "source": [
        "import numpy as np\n",
        "\n",
        "# Generate a single random float between 0 and 2\n",
        "random_float = np.random.rand()\n",
        "print(\"Single random float:\", random_float)"
      ],
      "execution_count": 12,
      "outputs": [
        {
          "output_type": "stream",
          "name": "stdout",
          "text": [
            "Single random float: 0.5824522023667327\n"
          ]
        }
      ]
    },
    {
      "cell_type": "code",
      "source": [
        "# Generate an array of random floats\n",
        "random_float_array = np.random.rand(3, 2) # 3 rows, 2 columns\n",
        "print(random_float_array)\n",
        "\n",
        "# Generate a single random integer within a range (e.g., between 1 and 10)\n",
        "random_int = np.random.randint(1, 11) # upper limit is exclusive\n",
        "print(\"\\nSingle random integer (1-10):\", random_int)"
      ],
      "metadata": {
        "colab": {
          "base_uri": "https://localhost:8080/"
        },
        "id": "6NMqPp8-ykZw",
        "outputId": "6019453d-5a2f-44d6-f688-d01e480f69ff"
      },
      "execution_count": 13,
      "outputs": [
        {
          "output_type": "stream",
          "name": "stdout",
          "text": [
            "[[0.17180298 0.98427183]\n",
            " [0.7084051  0.12340544]\n",
            " [0.01886002 0.5666362 ]]\n",
            "\n",
            "Single random integer (1-10): 1\n"
          ]
        }
      ]
    },
    {
      "cell_type": "code",
      "source": [
        "# Generate an array of random integers\n",
        "# 4 random integers between 10 and 100\n",
        "random_int_array = np.random.randint(10, 101, size=(4,))\n",
        "print(\"\\nArray of random integers (10-100):\")\n",
        "print(random_int_array)"
      ],
      "metadata": {
        "colab": {
          "base_uri": "https://localhost:8080/"
        },
        "id": "lKGq84Uiy1fQ",
        "outputId": "82025cec-10f0-4b10-cbdd-5326524ec7f4"
      },
      "execution_count": 15,
      "outputs": [
        {
          "output_type": "stream",
          "name": "stdout",
          "text": [
            "\n",
            "Array of random integers (10-100):\n",
            "[52 87 34 99]\n"
          ]
        }
      ]
    },
    {
      "cell_type": "code",
      "source": [
        "# Generate random numbers from a normal distribution (mean=0, std dev=1)\n",
        "random_normal = np.random.randn(2, 2)\n",
        "print(\"\\nRandom numbers from normal distribution:\")\n",
        "print(random_normal)\n",
        "print(\"\\nArray of random floats:\")"
      ],
      "metadata": {
        "colab": {
          "base_uri": "https://localhost:8080/"
        },
        "id": "nwu7JFkBzdBa",
        "outputId": "66f27347-c87b-40b6-95f3-560e34737ccb"
      },
      "execution_count": 16,
      "outputs": [
        {
          "output_type": "stream",
          "name": "stdout",
          "text": [
            "\n",
            "Random numbers from normal distribution:\n",
            "[[-1.90552678 -0.61290971]\n",
            " [ 0.71258637 -0.57314964]]\n",
            "\n",
            "Array of random floats:\n"
          ]
        }
      ]
    },
    {
      "cell_type": "code",
      "source": [],
      "metadata": {
        "id": "8Qt5PuwBzkNB"
      },
      "execution_count": null,
      "outputs": []
    }
  ]
}