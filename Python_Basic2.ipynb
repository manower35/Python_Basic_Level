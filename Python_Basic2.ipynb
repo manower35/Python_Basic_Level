{
  "nbformat": 4,
  "nbformat_minor": 0,
  "metadata": {
    "colab": {
      "provenance": [],
      "authorship_tag": "ABX9TyMGnohhBVtl/chSL6gZBVPV",
      "include_colab_link": true
    },
    "kernelspec": {
      "name": "python3",
      "display_name": "Python 3"
    },
    "language_info": {
      "name": "python"
    }
  },
  "cells": [
    {
      "cell_type": "markdown",
      "metadata": {
        "id": "view-in-github",
        "colab_type": "text"
      },
      "source": [
        "<a href=\"https://colab.research.google.com/github/manower35/Python_Basic_Level/blob/main/Python_Basic2.ipynb\" target=\"_parent\"><img src=\"https://colab.research.google.com/assets/colab-badge.svg\" alt=\"Open In Colab\"/></a>"
      ]
    },
    {
      "cell_type": "markdown",
      "source": [
        "User Input and While Loop"
      ],
      "metadata": {
        "id": "Y2AUainsycvG"
      }
    },
    {
      "cell_type": "code",
      "execution_count": 2,
      "metadata": {
        "colab": {
          "base_uri": "https://localhost:8080/"
        },
        "id": "fGyUUiQyx_jK",
        "outputId": "37692ccf-36ff-43ae-a3b2-d2b64b806dde"
      },
      "outputs": [
        {
          "output_type": "stream",
          "name": "stdout",
          "text": [
            "Tell me something, about GenAI: GenAI is a Image, Video, Text Generation Model\n",
            "GenAI is a Image, Video, Text Generation Model\n"
          ]
        }
      ],
      "source": [
        "message = input(\"Tell me something, about GenAI: \")\n",
        "print(message)"
      ]
    },
    {
      "cell_type": "code",
      "source": [
        "name = input(\"Please enter your name: \")\n",
        "print(f\"\\nHello, {name}!\")"
      ],
      "metadata": {
        "colab": {
          "base_uri": "https://localhost:8080/"
        },
        "id": "bmkgPM3x0KGg",
        "outputId": "48e768b1-f9df-46fb-8947-600aefd258d0"
      },
      "execution_count": 3,
      "outputs": [
        {
          "output_type": "stream",
          "name": "stdout",
          "text": [
            "Please enter your name: Md Manower Hussain\n",
            "\n",
            "Hello, Md Manower Hussain!\n"
          ]
        }
      ]
    },
    {
      "cell_type": "code",
      "source": [
        "age = input(\"How old are you: \")\n",
        "age"
      ],
      "metadata": {
        "colab": {
          "base_uri": "https://localhost:8080/",
          "height": 53
        },
        "id": "xlaowpRa1Ohl",
        "outputId": "3aca2d50-f486-478e-870e-f444bb811309"
      },
      "execution_count": 4,
      "outputs": [
        {
          "name": "stdout",
          "output_type": "stream",
          "text": [
            "How old are you: I am 20 yeras old\n"
          ]
        },
        {
          "output_type": "execute_result",
          "data": {
            "text/plain": [
              "'I am 20 yeras old'"
            ],
            "application/vnd.google.colaboratory.intrinsic+json": {
              "type": "string"
            }
          },
          "metadata": {},
          "execution_count": 4
        }
      ]
    },
    {
      "cell_type": "markdown",
      "source": [
        "while loop"
      ],
      "metadata": {
        "id": "6Tgg-9qn_KCt"
      }
    },
    {
      "cell_type": "code",
      "source": [
        "# Initialize a variable\n",
        "i = 0\n",
        "\n",
        "# Start the while loop\n",
        "while i < 5:\n",
        "    print(f\"The value of i is: {i}\")\n",
        "    i = i + 1 # Increment the variable to avoid an infinite loop\n",
        "\n",
        "print(\"The loop has finished.\")"
      ],
      "metadata": {
        "colab": {
          "base_uri": "https://localhost:8080/"
        },
        "id": "Y27T-mZd1nCE",
        "outputId": "88b52949-4540-4bd5-acab-631f428f4ece"
      },
      "execution_count": 6,
      "outputs": [
        {
          "output_type": "stream",
          "name": "stdout",
          "text": [
            "The value of i is: 0\n",
            "The value of i is: 1\n",
            "The value of i is: 2\n",
            "The value of i is: 3\n",
            "The value of i is: 4\n",
            "The loop has finished.\n"
          ]
        }
      ]
    },
    {
      "cell_type": "markdown",
      "metadata": {
        "id": "a2b17fd8"
      },
      "source": [
        "### The `continue` Statement\n",
        "\n",
        "The `continue` statement is used to skip the rest of the code inside a loop for the current iteration and move to the next iteration. In a `while` loop, when `continue` is encountered, the loop's condition is checked again, and if it's still true, the next iteration begins."
      ]
    },
    {
      "cell_type": "code",
      "metadata": {
        "colab": {
          "base_uri": "https://localhost:8080/"
        },
        "id": "d56f51be",
        "outputId": "3d9d417b-99b7-43c8-d525-8d5d8a95bd0b"
      },
      "source": [
        "# Example of using continue in a while loop\n",
        "count = 0     # Initialize a variable\n",
        "while count < 10:\n",
        "    count += 1\n",
        "    if count % 2 == 0: # If count is even, skip the print statement\n",
        "        continue\n",
        "    print(f\"Odd number: {count}\")\n",
        "\n",
        "print(\"Loop finished.\")"
      ],
      "execution_count": 7,
      "outputs": [
        {
          "output_type": "stream",
          "name": "stdout",
          "text": [
            "Odd number: 1\n",
            "Odd number: 3\n",
            "Odd number: 5\n",
            "Odd number: 7\n",
            "Odd number: 9\n",
            "Loop finished.\n"
          ]
        }
      ]
    },
    {
      "cell_type": "markdown",
      "metadata": {
        "id": "1e3619c3"
      },
      "source": [
        "In this example, the `print` statement is skipped when `count` is an even number because of the `continue` statement.\n",
        "\n",
        "### Infinite Loops\n",
        "\n",
        "An infinite loop is a loop that never terminates because the condition controlling the loop never becomes false. This can cause your program to freeze or consume excessive resources."
      ]
    },
    {
      "cell_type": "code",
      "metadata": {
        "id": "41935dad"
      },
      "source": [
        "# CAUTION: This is an example of an infinite loop.\n",
        "# x = 0\n",
        "# while x < 10:\n",
        "#     print(x)\n",
        "#     # Missing: x += 1  <-- This line is needed to avoid an infinite loop!"
      ],
      "execution_count": 8,
      "outputs": []
    },
    {
      "cell_type": "markdown",
      "metadata": {
        "id": "70385f67"
      },
      "source": [
        "To avoid infinite loops in a `while` loop, we must ensure that the condition that controls the loop will eventually become false. This usually involves modifying one or more variables within the loop's body that are part of the condition."
      ]
    },
    {
      "cell_type": "code",
      "source": [],
      "metadata": {
        "id": "IUu36fzwCthX"
      },
      "execution_count": null,
      "outputs": []
    }
  ]
}