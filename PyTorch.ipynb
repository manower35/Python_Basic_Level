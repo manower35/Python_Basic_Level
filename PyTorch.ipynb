{
  "nbformat": 4,
  "nbformat_minor": 0,
  "metadata": {
    "colab": {
      "provenance": [],
      "authorship_tag": "ABX9TyMl1QcMRPWLa7zqQOdAId/7",
      "include_colab_link": true
    },
    "kernelspec": {
      "name": "python3",
      "display_name": "Python 3"
    },
    "language_info": {
      "name": "python"
    }
  },
  "cells": [
    {
      "cell_type": "markdown",
      "metadata": {
        "id": "view-in-github",
        "colab_type": "text"
      },
      "source": [
        "<a href=\"https://colab.research.google.com/github/manower35/Python_Basic_Level/blob/main/PyTorch.ipynb\" target=\"_parent\"><img src=\"https://colab.research.google.com/assets/colab-badge.svg\" alt=\"Open In Colab\"/></a>"
      ]
    },
    {
      "cell_type": "markdown",
      "source": [
        "https://docs.pytorch.org/docs/stable/index.html"
      ],
      "metadata": {
        "id": "e-gVEuQXTSjI"
      }
    },
    {
      "cell_type": "markdown",
      "metadata": {
        "id": "a9b51e01"
      },
      "source": [
        "PyTorch is an open-source machine learning framework that helps you build and train neural networks. It's known for its flexibility and ease of use, making it a popular choice for both researchers and developers."
      ]
    },
    {
      "cell_type": "code",
      "metadata": {
        "colab": {
          "base_uri": "https://localhost:8080/"
        },
        "id": "edd13349",
        "outputId": "849d0e31-4c9e-4fc9-8dd8-e90b5e850b53"
      },
      "source": [
        "import torch\n",
        "\n",
        "# Create a tensor (a multi-dimensional array, similar to a NumPy array)\n",
        "x = torch.rand(2, 3)\n",
        "# Print the results\n",
        "print(\"Original tensor (x):\")\n",
        "print(x)"
      ],
      "execution_count": 5,
      "outputs": [
        {
          "output_type": "stream",
          "name": "stdout",
          "text": [
            "Original tensor (x):\n",
            "tensor([[0.4479, 0.6701, 0.0892],\n",
            "        [0.2104, 0.0446, 0.6867]])\n"
          ]
        }
      ]
    },
    {
      "cell_type": "markdown",
      "metadata": {
        "id": "f9563676"
      },
      "source": [
        "In this example:\n",
        "\n",
        "1.  We import the `torch` library.\n",
        "2.  We create a 2x3 tensor `x` filled with random numbers using `torch.rand()`.\n",
        "3.  We perform matrix multiplication of `x` with its transpose (`x.T`) using `torch.matmul()` and store the result in `y`.\n",
        "4.  Finally, we print both the original tensor and the result."
      ]
    },
    {
      "cell_type": "code",
      "source": [
        "import torch\n",
        "\n",
        "# Scalar (0D tensor)\n",
        "scalar_tensor = torch.tensor(5)\n",
        "print(\"Scalar tensor:\", scalar_tensor)\n",
        "print(\"Dimensions:\", scalar_tensor.ndim)"
      ],
      "metadata": {
        "colab": {
          "base_uri": "https://localhost:8080/"
        },
        "id": "lS8def2XRyMf",
        "outputId": "d76cf67e-4e1d-484b-c327-0d65511f279a"
      },
      "execution_count": 2,
      "outputs": [
        {
          "output_type": "stream",
          "name": "stdout",
          "text": [
            "Scalar tensor: tensor(5)\n",
            "Dimensions: 0\n"
          ]
        }
      ]
    },
    {
      "cell_type": "markdown",
      "metadata": {
        "id": "79d1ecef"
      },
      "source": [
        "In PyTorch, data is primarily represented as **tensors**. Tensors are multi-dimensional arrays, similar to NumPy arrays, but with the added capability of running on GPUs for faster computation.\n",
        "\n",
        "Here's how scalars, vectors, matrices, and higher-dimensional arrays relate to tensors:\n",
        "\n",
        "*   **Scalar:** A single number. In PyTorch, a scalar is a tensor with zero dimensions (a 0D tensor).\n",
        "*   **Vector:** A one-dimensional array of numbers. In PyTorch, a vector is a 1D tensor.\n",
        "*   **Matrix:** A two-dimensional array of numbers. In PyTorch, a matrix is a 2D tensor.\n",
        "*   **Tensor:** The general term for an array with one or more dimensions. A 3D tensor could represent a cube of numbers, and higher dimensions are possible"
      ]
    },
    {
      "cell_type": "code",
      "metadata": {
        "colab": {
          "base_uri": "https://localhost:8080/"
        },
        "id": "1dbcd69f",
        "outputId": "5a036e4d-f85d-4bd1-da74-690be4d7a261"
      },
      "source": [
        "# Vector (1D tensor)\n",
        "vector_tensor = torch.tensor([1, 2, 3])\n",
        "print(\"\\nVector tensor:\", vector_tensor)\n",
        "print(\"Dimensions:\", vector_tensor.ndim)\n",
        "\n",
        "# Matrix (2D tensor)\n",
        "matrix_tensor = torch.tensor([[1, 2], [3, 4]])\n",
        "print(\"\\nMatrix tensor:\")\n",
        "print(matrix_tensor)\n",
        "print(\"Dimensions:\", matrix_tensor.ndim)\n"
      ],
      "execution_count": 3,
      "outputs": [
        {
          "output_type": "stream",
          "name": "stdout",
          "text": [
            "\n",
            "Vector tensor: tensor([1, 2, 3])\n",
            "Dimensions: 1\n",
            "\n",
            "Matrix tensor:\n",
            "tensor([[1, 2],\n",
            "        [3, 4]])\n",
            "Dimensions: 2\n",
            "\n",
            "3D tensor:\n",
            "tensor([[[1, 2],\n",
            "         [3, 4]],\n",
            "\n",
            "        [[5, 6],\n",
            "         [7, 8]]])\n",
            "Dimensions: 3\n"
          ]
        }
      ]
    },
    {
      "cell_type": "code",
      "source": [
        "# 3D Tensor\n",
        "tensor_3d = torch.tensor([[[1, 2], [3, 4]], [[5, 6], [7, 8]]])\n",
        "print(\"\\n3D tensor:\")\n",
        "print(tensor_3d)\n",
        "print(\"Dimensions:\", tensor_3d.ndim)"
      ],
      "metadata": {
        "colab": {
          "base_uri": "https://localhost:8080/"
        },
        "id": "liLIruzlSe2O",
        "outputId": "86388ae1-be08-4e29-e63e-23cc083d3c74"
      },
      "execution_count": 4,
      "outputs": [
        {
          "output_type": "stream",
          "name": "stdout",
          "text": [
            "\n",
            "3D tensor:\n",
            "tensor([[[1, 2],\n",
            "         [3, 4]],\n",
            "\n",
            "        [[5, 6],\n",
            "         [7, 8]]])\n",
            "Dimensions: 3\n"
          ]
        }
      ]
    },
    {
      "cell_type": "code",
      "source": [
        "# Perform a simple operation (matrix multiplication)\n",
        "y = torch.matmul(x, x.T)\n",
        "\n",
        "print(\"\\nResult after matrix multiplication (y):\")\n",
        "print(y)"
      ],
      "metadata": {
        "colab": {
          "base_uri": "https://localhost:8080/"
        },
        "id": "L90cKmP8SgqQ",
        "outputId": "4c5da46e-f18b-439d-dc21-1f07cd1bdff3"
      },
      "execution_count": 6,
      "outputs": [
        {
          "output_type": "stream",
          "name": "stdout",
          "text": [
            "\n",
            "Result after matrix multiplication (y):\n",
            "tensor([[0.6576, 0.1853],\n",
            "        [0.1853, 0.5178]])\n"
          ]
        }
      ]
    },
    {
      "cell_type": "code",
      "source": [],
      "metadata": {
        "id": "Zpv-cWp_S8CA"
      },
      "execution_count": null,
      "outputs": []
    }
  ]
}