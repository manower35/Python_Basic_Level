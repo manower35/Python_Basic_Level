{
  "nbformat": 4,
  "nbformat_minor": 0,
  "metadata": {
    "colab": {
      "provenance": [],
      "authorship_tag": "ABX9TyNIvPs5LOx4SVw4au1g5O/c",
      "include_colab_link": true
    },
    "kernelspec": {
      "name": "python3",
      "display_name": "Python 3"
    },
    "language_info": {
      "name": "python"
    }
  },
  "cells": [
    {
      "cell_type": "markdown",
      "metadata": {
        "id": "view-in-github",
        "colab_type": "text"
      },
      "source": [
        "<a href=\"https://colab.research.google.com/github/manower35/Python_Basic_Level/blob/main/TensorFlow.ipynb\" target=\"_parent\"><img src=\"https://colab.research.google.com/assets/colab-badge.svg\" alt=\"Open In Colab\"/></a>"
      ]
    },
    {
      "cell_type": "markdown",
      "metadata": {
        "id": "14ddb906"
      },
      "source": [
        "**TensorFlow** is an open-source library used for building and training machine learning models. It uses \"tensors\", which are like multi-dimensional arrays, to perform calculations."
      ]
    },
    {
      "cell_type": "code",
      "metadata": {
        "colab": {
          "base_uri": "https://localhost:8080/"
        },
        "id": "82947f4f",
        "outputId": "3cb42b0f-3318-44e0-88b6-a81b340d69f8"
      },
      "source": [
        "import tensorflow as tf\n",
        "\n",
        "# Scalar (0-dimensional tensor)\n",
        "scalar = tf.constant(10, dtype=tf.int32)\n",
        "print(\"Scalar:\", scalar)"
      ],
      "execution_count": 3,
      "outputs": [
        {
          "output_type": "stream",
          "name": "stdout",
          "text": [
            "Scalar: tf.Tensor(10, shape=(), dtype=int32)\n"
          ]
        }
      ]
    },
    {
      "cell_type": "code",
      "source": [
        "# Vector (1-dimensional tensor)\n",
        "vector = tf.constant([1, 2, 3, 4], dtype=tf.float32)\n",
        "print(\"Vector:\", vector)"
      ],
      "metadata": {
        "colab": {
          "base_uri": "https://localhost:8080/"
        },
        "id": "Ryjs3lHfqGEe",
        "outputId": "c82f4eba-2e06-4a6e-8d06-6d6da3c57db5"
      },
      "execution_count": 4,
      "outputs": [
        {
          "output_type": "stream",
          "name": "stdout",
          "text": [
            "Vector: tf.Tensor([1 2 3 4], shape=(4,), dtype=int32)\n"
          ]
        }
      ]
    },
    {
      "cell_type": "code",
      "source": [
        "# Matrix (2-dimensional tensor)\n",
        "matrix = tf.constant([[1, 2], [3, 4]], dtype=tf.int32)\n",
        "print(\"Matrix:\", matrix)"
      ],
      "metadata": {
        "colab": {
          "base_uri": "https://localhost:8080/"
        },
        "id": "Jfzsfy7zqubC",
        "outputId": "de2127bf-91bd-41c5-ab6d-65e9858f650e"
      },
      "execution_count": 5,
      "outputs": [
        {
          "output_type": "stream",
          "name": "stdout",
          "text": [
            "Matrix: tf.Tensor(\n",
            "[[1 2]\n",
            " [3 4]], shape=(2, 2), dtype=int32)\n"
          ]
        }
      ]
    },
    {
      "cell_type": "code",
      "source": [
        "# Tensor (n-dimensional tensor - in this case, a 3D tensor)\n",
        "tensor = tf.constant([[[1, 2], [3, 4]], [[5, 6], [7, 8]]], dtype=tf.float32)\n",
        "print(\"Tensor:\", tensor)\n",
        "print(\"Tensor dtype:\", tensor.dtype)\n",
        "\n",
        "# Perform a simple operation (matrix multiplication)\n",
        "tensor_a = tf.constant([[1, 2], [3, 4]])\n",
        "tensor_b = tf.constant([[5, 6], [7, 8]])\n",
        "result = tf.matmul(tensor_a, tensor_b)\n",
        "\n",
        "# Print the result of the matrix multiplication\n",
        "print(\"Matrix multiplication result:\", result)\n",
        "print(\"Matrix multiplication result dtype:\", result.dtype)"
      ],
      "metadata": {
        "colab": {
          "base_uri": "https://localhost:8080/"
        },
        "id": "rLlCWSFeq8Hu",
        "outputId": "88cb198e-20f2-4f28-c5bb-f9ff51ce3c4f"
      },
      "execution_count": 7,
      "outputs": [
        {
          "output_type": "stream",
          "name": "stdout",
          "text": [
            "Tensor: tf.Tensor(\n",
            "[[[1. 2.]\n",
            "  [3. 4.]]\n",
            "\n",
            " [[5. 6.]\n",
            "  [7. 8.]]], shape=(2, 2, 2), dtype=float32)\n",
            "Tensor dtype: <dtype: 'float32'>\n",
            "Matrix multiplication result: tf.Tensor(\n",
            "[[19 22]\n",
            " [43 50]], shape=(2, 2), dtype=int32)\n",
            "Matrix multiplication result dtype: <dtype: 'int32'>\n"
          ]
        }
      ]
    },
    {
      "cell_type": "code",
      "source": [],
      "metadata": {
        "id": "BPmH1GBArDsw"
      },
      "execution_count": null,
      "outputs": []
    }
  ]
}