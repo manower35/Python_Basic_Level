{
  "nbformat": 4,
  "nbformat_minor": 0,
  "metadata": {
    "colab": {
      "provenance": [],
      "authorship_tag": "ABX9TyMeGY16HccPYvmART2fTe3e",
      "include_colab_link": true
    },
    "kernelspec": {
      "name": "python3",
      "display_name": "Python 3"
    },
    "language_info": {
      "name": "python"
    }
  },
  "cells": [
    {
      "cell_type": "markdown",
      "metadata": {
        "id": "view-in-github",
        "colab_type": "text"
      },
      "source": [
        "<a href=\"https://colab.research.google.com/github/manower35/Python_Basic_Level/blob/main/Python_Function.ipynb\" target=\"_parent\"><img src=\"https://colab.research.google.com/assets/colab-badge.svg\" alt=\"Open In Colab\"/></a>"
      ]
    },
    {
      "cell_type": "markdown",
      "source": [
        "A function is like a mini-program inside your main program. It does a specific job and can be used multiple times. This saves our from writing the same code over and over.\n",
        "\n",
        "Here's a simple example:"
      ],
      "metadata": {
        "id": "QJqDZ5m9F8z2"
      }
    },
    {
      "cell_type": "code",
      "execution_count": null,
      "metadata": {
        "colab": {
          "base_uri": "https://localhost:8080/"
        },
        "id": "-3crSwd2EvfV",
        "outputId": "bb300385-0dc3-4608-8813-ae99adca1026"
      },
      "outputs": [
        {
          "output_type": "stream",
          "name": "stdout",
          "text": [
            "Hello, Alice!\n",
            "Hello, Bob!\n"
          ]
        }
      ],
      "source": [
        "def greet(name):\n",
        "  \"\"\"This function says hello to the person passed in as a parameter.\"\"\"\n",
        "  print(\"Hello, \" + name + \"!\")\n",
        "\n",
        "# Now, let's use the function:\n",
        "greet(\"Alice\")\n",
        "greet(\"Bob\")"
      ]
    },
    {
      "cell_type": "markdown",
      "source": [
        "**Step-by-step explanation:**\n",
        "\n",
        "1.  **`def greet(name):`**: This line *defines* a function named `greet`. It takes one piece of information, called an *argument*, which we've named `name`.\n",
        "2.  **`\"\"\"This function says hello...\"\"\"`**: This is a *docstring*. It's a short description of what the function does. It's good practice to include these.\n",
        "3.  **`print(\"Hello, \" + name + \"!\")`**: This is the *body* of the function. It's the code that runs when you *call* the function. In this case, it prints a greeting using the `name` you provided.\n",
        "4.  **`greet(\"Alice\")`**: This *calls* the `greet` function and gives it the argument `\"Alice\"`. The code inside the function runs with `name` being `\"Alice\"`.\n",
        "5.  **`greet(\"Bob\")`**: This calls the `greet` function again, this time with `\"Bob\"`.\n",
        "\n",
        "See how we used the same `greet` function twice with different names without rewriting the `print` code? That's the power of functions!"
      ],
      "metadata": {
        "id": "GKTTLoacGfkO"
      }
    },
    {
      "cell_type": "markdown",
      "metadata": {
        "id": "2daca0a6"
      },
      "source": [
        "Here's a simple example related to data processing in AI/ML:"
      ]
    },
    {
      "cell_type": "code",
      "metadata": {
        "colab": {
          "base_uri": "https://localhost:8080/"
        },
        "id": "72fe076c",
        "outputId": "1362e694-6ed6-45bf-89fd-311152605829"
      },
      "source": [
        "def clean_data(data):\n",
        "  \"\"\"\n",
        "  This function takes a list of numbers and removes any values less than 0.\n",
        "  \"\"\"\n",
        "  cleaned_data = [x for x in data if x >= 0]\n",
        "  return cleaned_data\n",
        "\n",
        "# Example usage:\n",
        "raw_data = [-5, 10, 15, -2, 20]\n",
        "processed_data = clean_data(raw_data)\n",
        "print(\"Raw data:\", raw_data)\n",
        "print(\"Cleaned data:\", processed_data)"
      ],
      "execution_count": null,
      "outputs": [
        {
          "output_type": "stream",
          "name": "stdout",
          "text": [
            "Raw data: [-5, 10, 15, -2, 20]\n",
            "Cleaned data: [10, 15, 20]\n"
          ]
        }
      ]
    },
    {
      "cell_type": "markdown",
      "metadata": {
        "id": "4c0d8cfb"
      },
      "source": [
        "**Step-by-step explanation:**\n",
        "\n",
        "1.  **Define the function:** We define a function called `clean_data` that takes one parameter, `data`.\n",
        "2.  **Docstring:** The docstring explains the purpose of the function.\n",
        "3.  **Function body:**\n",
        "    *   We use a list comprehension `[x for x in data if x >= 0]` to create a new list called `cleaned_data`. This list comprehension iterates through each element `x` in the input `data` and includes it in the new list only if `x` is greater than or equal to 0.\n",
        "4.  **Return value:** The function returns the `cleaned_data` list.\n",
        "5.  **Example usage:** We create a sample list `raw_data`, call the `clean_data` function with this list, and store the result in `processed_data`. Finally, we print both the original and cleaned data to show the function's effect."
      ]
    },
    {
      "cell_type": "markdown",
      "metadata": {
        "id": "ce9823aa"
      },
      "source": [
        "Here's another example, simulating a basic calculation often used in machine learning models (like calculating the weighted sum of inputs):"
      ]
    },
    {
      "cell_type": "code",
      "metadata": {
        "colab": {
          "base_uri": "https://localhost:8080/"
        },
        "id": "d6a93ed1",
        "outputId": "f535c734-07ae-417e-efcc-27c913ae7504"
      },
      "source": [
        "def calculate_weighted_sum(inputs, weights):\n",
        "  \"\"\"\n",
        "  Calculates the weighted sum of inputs.\n",
        "  Assumes inputs and weights are lists of the same length.\n",
        "  \"\"\"\n",
        "  if len(inputs) != len(weights):\n",
        "    return \"Error: Inputs and weights must have the same length.\"\n",
        "\n",
        "  weighted_sum = sum(i * w for i, w in zip(inputs, weights))\n",
        "  return weighted_sum\n",
        "\n",
        "# Example usage:\n",
        "input_values = [0.5, 1.0, -0.2]\n",
        "weight_values = [0.1, 0.3, 0.5]\n",
        "\n",
        "result = calculate_weighted_sum(input_values, weight_values)\n",
        "print(f\"Inputs: {input_values}\")\n",
        "print(f\"Weights: {weight_values}\")\n",
        "print(f\"Weighted sum: {result}\")\n",
        "\n",
        "# Example with different lengths\n",
        "input_values_error = [0.5, 1.0]\n",
        "weight_values_error = [0.1, 0.3, 0.5]\n",
        "result_error = calculate_weighted_sum(input_values_error, weight_values_error)\n",
        "print(f\"\\nInputs: {input_values_error}\")\n",
        "print(f\"Weights: {weight_values_error}\")\n",
        "print(f\"Weighted sum (error case): {result_error}\")"
      ],
      "execution_count": null,
      "outputs": [
        {
          "output_type": "stream",
          "name": "stdout",
          "text": [
            "Inputs: [0.5, 1.0, -0.2]\n",
            "Weights: [0.1, 0.3, 0.5]\n",
            "Weighted sum: 0.24999999999999997\n",
            "\n",
            "Inputs: [0.5, 1.0]\n",
            "Weights: [0.1, 0.3, 0.5]\n",
            "Weighted sum (error case): Error: Inputs and weights must have the same length.\n"
          ]
        }
      ]
    },
    {
      "cell_type": "markdown",
      "metadata": {
        "id": "f3e8e1f9"
      },
      "source": [
        "**Step-by-step explanation:**\n",
        "\n",
        "1.  **Define the function:** We define a function called `calculate_weighted_sum` that takes two parameters: `inputs` and `weights`.\n",
        "2.  **Docstring:** The docstring explains the function's purpose and assumptions.\n",
        "3.  **Input validation:** We check if the lengths of the `inputs` and `weights` lists are the same. If not, we return an error message because a weighted sum requires corresponding input and weight values.\n",
        "4.  **Calculate weighted sum:**\n",
        "    *   We use `zip(inputs, weights)` to pair corresponding elements from the two lists.\n",
        "    *   We use a generator expression `(i * w for i, w in zip(inputs, weights))` to calculate the product of each input and its corresponding weight.\n",
        "    *   The `sum()` function is used to sum up all these products, giving the weighted sum.\n",
        "5.  **Return value:** The function returns the calculated `weighted_sum` or the error message.\n",
        "6.  **Example usage:** We provide example `input_values` and `weight_values`, call the function, and print the result. We also show an example where the input lengths are different to demonstrate the error handling.\n",
        "\n",
        "These examples show how functions can be used to encapsulate specific tasks, making your code more organized and reusable, which is crucial in larger AI/ML projects."
      ]
    },
    {
      "cell_type": "markdown",
      "metadata": {
        "id": "37b0fa2e"
      },
      "source": [
        "## Object-Oriented Programming (OOP)\n",
        "\n",
        "OOP is like having blueprints (called **classes**) for different types of bricks. These blueprints tell you what kind of features a brick has (like color and shape) and what it can do (like connect to other bricks).\n",
        "\n",
        "Once you have a blueprint, you can create actual bricks from it. These individual bricks are called **objects**. Each object is an instance of a class.\n",
        "\n",
        "Here's a simple example:"
      ]
    },
    {
      "cell_type": "code",
      "metadata": {
        "colab": {
          "base_uri": "https://localhost:8080/"
        },
        "id": "851b5de2",
        "outputId": "bcb4cec9-27f1-4ba0-a530-ae14eb60b49a"
      },
      "source": [
        "# This is our blueprint (class) for a \"Dog\"\n",
        "class Dog:\n",
        "  # This is a special function that runs when you create a new Dog object\n",
        "  def __init__(self, name, breed):\n",
        "    self.name = name # This is a feature (attribute) of the dog\n",
        "    self.breed = breed # Another feature\n",
        "\n",
        "  # This is something the dog can do (a method)\n",
        "  def bark(self):\n",
        "    print(f\"{self.name} says Woof!\")\n",
        "\n",
        "# Now, let's create some actual dogs (objects) from our blueprint\n",
        "my_dog = Dog(\"Buddy\", \"Golden Retriever\")\n",
        "your_dog = Dog(\"Lucy\", \"Poodle\")\n",
        "\n",
        "# We can access their features and make them do things\n",
        "print(f\"My dog's name is {my_dog.name} and he is a {my_dog.breed}.\")\n",
        "my_dog.bark()\n",
        "\n",
        "print(f\"Your dog's name is {your_dog.name} and she is a {your_dog.breed}.\")\n",
        "your_dog.bark()"
      ],
      "execution_count": 1,
      "outputs": [
        {
          "output_type": "stream",
          "name": "stdout",
          "text": [
            "My dog's name is Buddy and he is a Golden Retriever.\n",
            "Buddy says Woof!\n",
            "Your dog's name is Lucy and she is a Poodle.\n",
            "Lucy says Woof!\n"
          ]
        }
      ]
    },
    {
      "cell_type": "markdown",
      "metadata": {
        "id": "80cc4996"
      },
      "source": [
        "**In this example:**\n",
        "\n",
        "*   **`class Dog:`**: This is our blueprint, defining what a `Dog` is.\n",
        "*   **`__init__(self, name, breed):`**: This is a special function within the class called the **constructor**. It's used to set up the object when you create it. `self` refers to the object itself. `name` and `breed` are pieces of information we give when creating a dog.\n",
        "*   **`self.name = name` and `self.breed = breed`**: These lines store the `name` and `breed` as features (called **attributes**) of the `Dog` object. Each dog object will have its own `name` and `breed`.\n",
        "*   **`bark(self):`**: This is a function within the class called a **method**. It defines something a `Dog` object can do.\n",
        "*   **`my_dog = Dog(\"Buddy\", \"Golden Retriever\")` and `your_dog = Dog(\"Lucy\", \"Poodle\")`**: These lines create two different `Dog` objects, `my_dog` and `your_dog`, using the `Dog` blueprint. Each object has its own `name` and `breed`.\n",
        "*   **`my_dog.name` and `my_dog.bark()`**: This is how you access the attributes (`.name`) and call the methods (`.bark()`) of an object."
      ]
    }
  ]
}