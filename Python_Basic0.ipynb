{
  "nbformat": 4,
  "nbformat_minor": 0,
  "metadata": {
    "colab": {
      "provenance": [],
      "authorship_tag": "ABX9TyM9ELlzt0O896O1LA95XUSS",
      "include_colab_link": true
    },
    "kernelspec": {
      "name": "python3",
      "display_name": "Python 3"
    },
    "language_info": {
      "name": "python"
    }
  },
  "cells": [
    {
      "cell_type": "markdown",
      "metadata": {
        "id": "view-in-github",
        "colab_type": "text"
      },
      "source": [
        "<a href=\"https://colab.research.google.com/github/manower35/Python_Basic_Level/blob/main/Python_Basic0.ipynb\" target=\"_parent\"><img src=\"https://colab.research.google.com/assets/colab-badge.svg\" alt=\"Open In Colab\"/></a>"
      ]
    },
    {
      "cell_type": "markdown",
      "source": [
        "VARIABLES AND\n",
        "SIMPLE DATA T YPES"
      ],
      "metadata": {
        "id": "Ij2fxqtYEHCg"
      }
    },
    {
      "cell_type": "code",
      "source": [
        "print(\"Hello Python,How are you\")"
      ],
      "metadata": {
        "colab": {
          "base_uri": "https://localhost:8080/"
        },
        "id": "bqySsIG1EYj2",
        "outputId": "bf68daff-3b84-4a51-cfa8-9dc508c12d3b"
      },
      "execution_count": null,
      "outputs": [
        {
          "output_type": "stream",
          "name": "stdout",
          "text": [
            "Hello Python,How are you\n"
          ]
        }
      ]
    },
    {
      "cell_type": "code",
      "source": [
        "import sys\n",
        "print(sys.version)"
      ],
      "metadata": {
        "colab": {
          "base_uri": "https://localhost:8080/"
        },
        "id": "Nidsh8uQEnzf",
        "outputId": "d190ec17-6f67-48c3-c810-ad8b4b292ebe"
      },
      "execution_count": null,
      "outputs": [
        {
          "output_type": "stream",
          "name": "stdout",
          "text": [
            "3.11.13 (main, Jun  4 2025, 08:57:29) [GCC 11.4.0]\n"
          ]
        }
      ]
    },
    {
      "cell_type": "code",
      "execution_count": null,
      "metadata": {
        "colab": {
          "base_uri": "https://localhost:8080/"
        },
        "id": "fixNc5HAEEnf",
        "outputId": "f69ac8e8-034e-485f-b7d6-74f13fdd2a8d"
      },
      "outputs": [
        {
          "output_type": "stream",
          "name": "stdout",
          "text": [
            "34\n",
            "SuperWidget\n",
            "False\n"
          ]
        }
      ],
      "source": [
        "# The '=' sign is called the \"assignment operator\".\n",
        "# It assigns the value on the right to the variable name on the left.\n",
        "\n",
        "customer_age = 34\n",
        "product_name = \"SuperWidget\"\n",
        "is_fraudulent = False\n",
        "\n",
        "print(customer_age)\n",
        "print(product_name)\n",
        "print(is_fraudulent)"
      ]
    },
    {
      "cell_type": "markdown",
      "source": [
        "Naming Rules (The Essentials):\n",
        "\n",
        "Must start with a letter or an underscore (_).\n",
        "\n",
        "Cannot start with a number.\n",
        "\n",
        "Can only contain letters, numbers, and underscores.\n",
        "\n",
        "Names are case-sensitive (age is different from Age).\n",
        "\n",
        "Best Practice: Use descriptive, lowercase names with underscores (this is called snake_case), like patient_heart_rate or model_accuracy."
      ],
      "metadata": {
        "id": "lptx265GHFVj"
      }
    },
    {
      "cell_type": "markdown",
      "source": [
        "Integers (int)"
      ],
      "metadata": {
        "id": "oplS9i3hHZKc"
      }
    },
    {
      "cell_type": "code",
      "source": [
        "# Number of patients in a clinical trial\n",
        "number_of_patients = 150\n",
        "\n",
        "# The number of times we will show our data to the model\n",
        "training_epochs = 10\n",
        "\n",
        "print(number_of_patients)"
      ],
      "metadata": {
        "colab": {
          "base_uri": "https://localhost:8080/"
        },
        "id": "h3AUQJ0FGwU0",
        "outputId": "683b70b7-4a62-4322-9ce4-0b824e094862"
      },
      "execution_count": null,
      "outputs": [
        {
          "output_type": "stream",
          "name": "stdout",
          "text": [
            "150\n"
          ]
        }
      ]
    },
    {
      "cell_type": "markdown",
      "source": [
        "Floating-Point Numbers (float)"
      ],
      "metadata": {
        "id": "1RrnWBQWHlVr"
      }
    },
    {
      "cell_type": "code",
      "source": [
        "# A model's accuracy on a test set\n",
        "model_accuracy = 0.925  # This means 92.5%\n",
        "\n",
        "# A patient's BMI\n",
        "patient_bmi = 24.8\n",
        "\n",
        "print(model_accuracy)"
      ],
      "metadata": {
        "colab": {
          "base_uri": "https://localhost:8080/"
        },
        "id": "JGLKtwr-HhPM",
        "outputId": "44001e2f-098f-491e-94f6-e4e5a9974c72"
      },
      "execution_count": null,
      "outputs": [
        {
          "output_type": "stream",
          "name": "stdout",
          "text": [
            "0.925\n"
          ]
        }
      ]
    },
    {
      "cell_type": "markdown",
      "source": [
        "Strings (str)"
      ],
      "metadata": {
        "id": "r-0mE7aIHzmk"
      }
    },
    {
      "cell_type": "code",
      "source": [
        "# The text from a customer email\n",
        "email_subject = \"Urgent: Issue with my order\"\n",
        "\n",
        "# The predicted class for an image\n",
        "image_prediction = \"cat\"\n",
        "\n",
        "print(email_subject)"
      ],
      "metadata": {
        "colab": {
          "base_uri": "https://localhost:8080/"
        },
        "id": "1CfRaoiEHs-V",
        "outputId": "3fed2b5e-2d73-4abd-96ba-fa8884998e84"
      },
      "execution_count": null,
      "outputs": [
        {
          "output_type": "stream",
          "name": "stdout",
          "text": [
            "Urgent: Issue with my order\n"
          ]
        }
      ]
    },
    {
      "cell_type": "markdown",
      "source": [
        "Booleans (bool)"
      ],
      "metadata": {
        "id": "IAqb6EhGIG91"
      }
    },
    {
      "cell_type": "code",
      "source": [
        "# A model predicts if an email is spam or not\n",
        "is_spam = True\n",
        "\n",
        "# A variable to track if a patient has a specific condition\n",
        "has_diabetes = False\n",
        "\n",
        "print(is_spam)"
      ],
      "metadata": {
        "colab": {
          "base_uri": "https://localhost:8080/"
        },
        "id": "flk21NOGIAp_",
        "outputId": "d8a5d045-4891-4ff0-da51-644cb9faecbd"
      },
      "execution_count": null,
      "outputs": [
        {
          "output_type": "stream",
          "name": "stdout",
          "text": [
            "True\n"
          ]
        }
      ]
    },
    {
      "cell_type": "code",
      "source": [
        "# Patient Record\n",
        "\n",
        "patient_id = \"pn-98721\"\n",
        "age = 68\n",
        "body_temperature = 38.5\n",
        "is_high_risk = True\n",
        "\n",
        "# Checking Data Types\n",
        "print(type(patient_id))\n",
        "print(type(age))\n",
        "print(type(body_temperature))\n",
        "print(type(is_high_risk))"
      ],
      "metadata": {
        "colab": {
          "base_uri": "https://localhost:8080/"
        },
        "id": "FK6QRk56IQPx",
        "outputId": "2e34f406-155b-45e8-aa92-5af695877c0a"
      },
      "execution_count": null,
      "outputs": [
        {
          "output_type": "stream",
          "name": "stdout",
          "text": [
            "<class 'str'>\n",
            "<class 'int'>\n",
            "<class 'float'>\n",
            "<class 'bool'>\n"
          ]
        }
      ]
    },
    {
      "cell_type": "markdown",
      "source": [
        "List"
      ],
      "metadata": {
        "id": "SYI8mCdevFTS"
      }
    },
    {
      "cell_type": "code",
      "source": [
        "book_1 = [\"bio\", \"phy\", \"math\", \"chem\", \"eng\"]\n",
        "book_1"
      ],
      "metadata": {
        "id": "tz7dT1cRJJL7",
        "colab": {
          "base_uri": "https://localhost:8080/"
        },
        "outputId": "c8b760d7-04f0-4f89-b70b-1a2932ce3f34"
      },
      "execution_count": 1,
      "outputs": [
        {
          "output_type": "execute_result",
          "data": {
            "text/plain": [
              "['bio', 'phy', 'math', 'chem', 'eng']"
            ]
          },
          "metadata": {},
          "execution_count": 1
        }
      ]
    },
    {
      "cell_type": "code",
      "source": [
        "book_1[0]"
      ],
      "metadata": {
        "colab": {
          "base_uri": "https://localhost:8080/",
          "height": 36
        },
        "id": "VU7E_NRwvTC5",
        "outputId": "edfafa16-0693-4fdb-d9cd-316bd1fca646"
      },
      "execution_count": 2,
      "outputs": [
        {
          "output_type": "execute_result",
          "data": {
            "text/plain": [
              "'bio'"
            ],
            "application/vnd.google.colaboratory.intrinsic+json": {
              "type": "string"
            }
          },
          "metadata": {},
          "execution_count": 2
        }
      ]
    },
    {
      "cell_type": "code",
      "source": [
        "book_1[-1]"
      ],
      "metadata": {
        "colab": {
          "base_uri": "https://localhost:8080/",
          "height": 36
        },
        "id": "K9c92NDrvYCF",
        "outputId": "50773693-d4b5-4ab7-abd2-949937b0554e"
      },
      "execution_count": 3,
      "outputs": [
        {
          "output_type": "execute_result",
          "data": {
            "text/plain": [
              "'eng'"
            ],
            "application/vnd.google.colaboratory.intrinsic+json": {
              "type": "string"
            }
          },
          "metadata": {},
          "execution_count": 3
        }
      ]
    },
    {
      "cell_type": "code",
      "source": [
        "book_1[3].title()"
      ],
      "metadata": {
        "colab": {
          "base_uri": "https://localhost:8080/",
          "height": 36
        },
        "id": "PIRGwdfEvcfT",
        "outputId": "90f67159-5f47-40c5-bce9-33986f9bb3ba"
      },
      "execution_count": 5,
      "outputs": [
        {
          "output_type": "execute_result",
          "data": {
            "text/plain": [
              "'Chem'"
            ],
            "application/vnd.google.colaboratory.intrinsic+json": {
              "type": "string"
            }
          },
          "metadata": {},
          "execution_count": 5
        }
      ]
    },
    {
      "cell_type": "markdown",
      "source": [
        "Modifying, Adding, and Removing Elements"
      ],
      "metadata": {
        "id": "N9w3kjmwwN61"
      }
    },
    {
      "cell_type": "code",
      "source": [
        "book_1.append(\"geo\")\n",
        "book_1"
      ],
      "metadata": {
        "colab": {
          "base_uri": "https://localhost:8080/"
        },
        "id": "Vy4nBsYpvypG",
        "outputId": "c6033915-c881-41a1-b757-7ebf57e85504"
      },
      "execution_count": 6,
      "outputs": [
        {
          "output_type": "execute_result",
          "data": {
            "text/plain": [
              "['bio', 'phy', 'math', 'chem', 'eng', 'geo']"
            ]
          },
          "metadata": {},
          "execution_count": 6
        }
      ]
    },
    {
      "cell_type": "code",
      "source": [
        "new_book = []\n",
        "new_book.append(\"hindi\")\n",
        "new_book.append(\"sanskrit\")\n",
        "new_book.append(\"urdu\")\n",
        "new_book"
      ],
      "metadata": {
        "colab": {
          "base_uri": "https://localhost:8080/"
        },
        "id": "WsM3tqSvwfnC",
        "outputId": "c88a8255-260c-4357-acc7-84037e7f525b"
      },
      "execution_count": 7,
      "outputs": [
        {
          "output_type": "execute_result",
          "data": {
            "text/plain": [
              "['hindi', 'sanskrit', 'urdu']"
            ]
          },
          "metadata": {},
          "execution_count": 7
        }
      ]
    },
    {
      "cell_type": "code",
      "source": [
        "new_book.insert(1, \"economics\")\n",
        "new_book"
      ],
      "metadata": {
        "colab": {
          "base_uri": "https://localhost:8080/"
        },
        "id": "0-TNn9JVw_Xu",
        "outputId": "17c6ba6a-ff93-4085-9cfb-7d52d6c8ce94"
      },
      "execution_count": 9,
      "outputs": [
        {
          "output_type": "execute_result",
          "data": {
            "text/plain": [
              "['hindi', 'economics', 'economics', 'sanskrit', 'urdu']"
            ]
          },
          "metadata": {},
          "execution_count": 9
        }
      ]
    },
    {
      "cell_type": "code",
      "source": [
        "del new_book[2]\n",
        "new_book"
      ],
      "metadata": {
        "colab": {
          "base_uri": "https://localhost:8080/"
        },
        "id": "J-RnAX4TxPBD",
        "outputId": "1780718f-eb8e-4596-ab26-7d2b9ccabe47"
      },
      "execution_count": 10,
      "outputs": [
        {
          "output_type": "execute_result",
          "data": {
            "text/plain": [
              "['hindi', 'economics', 'sanskrit', 'urdu']"
            ]
          },
          "metadata": {},
          "execution_count": 10
        }
      ]
    },
    {
      "cell_type": "code",
      "source": [
        "new_book.pop(-1)"
      ],
      "metadata": {
        "colab": {
          "base_uri": "https://localhost:8080/",
          "height": 36
        },
        "id": "zPK8-SjaxhIF",
        "outputId": "8a817839-7bf0-435d-b584-a656e1fa3e3c"
      },
      "execution_count": 11,
      "outputs": [
        {
          "output_type": "execute_result",
          "data": {
            "text/plain": [
              "'urdu'"
            ],
            "application/vnd.google.colaboratory.intrinsic+json": {
              "type": "string"
            }
          },
          "metadata": {},
          "execution_count": 11
        }
      ]
    },
    {
      "cell_type": "markdown",
      "source": [
        "Organizing a List"
      ],
      "metadata": {
        "id": "mYGAOdIlymmq"
      }
    },
    {
      "cell_type": "code",
      "source": [
        "fav_city = [\"hyderabad\", \"banglore\", \"kolkata\", \"delhi\", \"mumbai\"]\n",
        "fav_city.sort()\n",
        "fav_city"
      ],
      "metadata": {
        "colab": {
          "base_uri": "https://localhost:8080/"
        },
        "id": "lNpEqLDQxu4_",
        "outputId": "87e7bb55-f959-4a3b-8aa5-9cb5beb654d6"
      },
      "execution_count": 13,
      "outputs": [
        {
          "output_type": "execute_result",
          "data": {
            "text/plain": [
              "['banglore', 'delhi', 'hyderabad', 'kolkata', 'mumbai']"
            ]
          },
          "metadata": {},
          "execution_count": 13
        }
      ]
    },
    {
      "cell_type": "code",
      "source": [
        "fav_city.reverse()\n",
        "fav_city"
      ],
      "metadata": {
        "colab": {
          "base_uri": "https://localhost:8080/"
        },
        "id": "92geTtCxy_cR",
        "outputId": "bef4d008-4297-405d-9e2f-7a6a5a8ad2c7"
      },
      "execution_count": 14,
      "outputs": [
        {
          "output_type": "execute_result",
          "data": {
            "text/plain": [
              "['mumbai', 'kolkata', 'hyderabad', 'delhi', 'banglore']"
            ]
          },
          "metadata": {},
          "execution_count": 14
        }
      ]
    },
    {
      "cell_type": "markdown",
      "source": [
        "Finding the Length of a List"
      ],
      "metadata": {
        "id": "vppEmKuAzXDK"
      }
    },
    {
      "cell_type": "code",
      "source": [
        "len(fav_city)"
      ],
      "metadata": {
        "colab": {
          "base_uri": "https://localhost:8080/"
        },
        "id": "nwVsCfRKzOwn",
        "outputId": "d7cbca83-ad7a-41ee-9a2e-dda4df49ab13"
      },
      "execution_count": 15,
      "outputs": [
        {
          "output_type": "execute_result",
          "data": {
            "text/plain": [
              "5"
            ]
          },
          "metadata": {},
          "execution_count": 15
        }
      ]
    },
    {
      "cell_type": "code",
      "source": [
        "len(new_book)"
      ],
      "metadata": {
        "colab": {
          "base_uri": "https://localhost:8080/"
        },
        "id": "zVNbWC9-zcu9",
        "outputId": "95a5ce06-5957-4c38-aebb-5cd2eb3f5307"
      },
      "execution_count": 16,
      "outputs": [
        {
          "output_type": "execute_result",
          "data": {
            "text/plain": [
              "3"
            ]
          },
          "metadata": {},
          "execution_count": 16
        }
      ]
    },
    {
      "cell_type": "markdown",
      "source": [
        "WORKING WITH L ISTS"
      ],
      "metadata": {
        "id": "F_u-07Vh0fgT"
      }
    },
    {
      "cell_type": "code",
      "source": [
        "magicians = ['alice', 'david', 'carolina']\n",
        "for magician in magicians:\n",
        "    print(magician)"
      ],
      "metadata": {
        "colab": {
          "base_uri": "https://localhost:8080/"
        },
        "id": "mIi9Ucp4zfwh",
        "outputId": "e54db052-3abb-4b40-f409-b955da9a1105"
      },
      "execution_count": 17,
      "outputs": [
        {
          "output_type": "stream",
          "name": "stdout",
          "text": [
            "alice\n",
            "david\n",
            "carolina\n"
          ]
        }
      ]
    },
    {
      "cell_type": "code",
      "source": [
        "for value in range(1,10):\n",
        "    print(value)"
      ],
      "metadata": {
        "colab": {
          "base_uri": "https://localhost:8080/"
        },
        "id": "v2Sho_tL1tfI",
        "outputId": "543c920b-3cb7-4d7e-a34e-f82c8593f048"
      },
      "execution_count": 21,
      "outputs": [
        {
          "output_type": "stream",
          "name": "stdout",
          "text": [
            "1\n",
            "2\n",
            "3\n",
            "4\n",
            "5\n",
            "6\n",
            "7\n",
            "8\n",
            "9\n"
          ]
        }
      ]
    },
    {
      "cell_type": "code",
      "source": [
        "numbers = list(range(1, 10))\n",
        "numbers"
      ],
      "metadata": {
        "colab": {
          "base_uri": "https://localhost:8080/"
        },
        "id": "JvvKPy4n2Fzh",
        "outputId": "74c2dbdb-c7ea-4c0b-da32-be1fd5f828c1"
      },
      "execution_count": 22,
      "outputs": [
        {
          "output_type": "execute_result",
          "data": {
            "text/plain": [
              "[1, 2, 3, 4, 5, 6, 7, 8, 9]"
            ]
          },
          "metadata": {},
          "execution_count": 22
        }
      ]
    },
    {
      "cell_type": "code",
      "source": [
        "square = []\n",
        "for value in range(1, 10):\n",
        "    square_value = value**2\n",
        "    square.append(square_value)\n",
        "print(square)"
      ],
      "metadata": {
        "colab": {
          "base_uri": "https://localhost:8080/"
        },
        "id": "FDBw0U1n-AfB",
        "outputId": "1dfc26cb-5205-4365-9fb7-d68aaa838134"
      },
      "execution_count": 24,
      "outputs": [
        {
          "output_type": "stream",
          "name": "stdout",
          "text": [
            "[1, 4, 9, 16, 25, 36, 49, 64, 81]\n"
          ]
        }
      ]
    },
    {
      "cell_type": "code",
      "source": [
        "digits = [1,9,8,4,7,0,34]\n",
        "print(min(digits))\n",
        "print(max(digits))\n",
        "print(sum(digits))"
      ],
      "metadata": {
        "colab": {
          "base_uri": "https://localhost:8080/"
        },
        "id": "f2RCdnO2-g8n",
        "outputId": "00f717cc-a860-4a72-f639-57cd5396eb53"
      },
      "execution_count": 25,
      "outputs": [
        {
          "output_type": "stream",
          "name": "stdout",
          "text": [
            "0\n",
            "34\n",
            "63\n"
          ]
        }
      ]
    },
    {
      "cell_type": "markdown",
      "source": [
        "Slicing a List"
      ],
      "metadata": {
        "id": "NTqCXe8f_VRn"
      }
    },
    {
      "cell_type": "code",
      "source": [
        "prog_lang = [\"python\", \"javascript\", \"php\", \"java\", \"ruby\", \"c\", \"c#\"]\n",
        "prog_lang[0:3]"
      ],
      "metadata": {
        "colab": {
          "base_uri": "https://localhost:8080/"
        },
        "id": "uglWCG-G_EJY",
        "outputId": "dcb10607-dec1-4694-e3d4-9c5146f2a583"
      },
      "execution_count": 26,
      "outputs": [
        {
          "output_type": "execute_result",
          "data": {
            "text/plain": [
              "['python', 'javascript', 'php']"
            ]
          },
          "metadata": {},
          "execution_count": 26
        }
      ]
    },
    {
      "cell_type": "code",
      "source": [
        "prog_lang[:2]"
      ],
      "metadata": {
        "colab": {
          "base_uri": "https://localhost:8080/"
        },
        "id": "6-O0WENC_1rI",
        "outputId": "2a66145f-fcf3-43d6-e580-7d52e0350c4e"
      },
      "execution_count": 27,
      "outputs": [
        {
          "output_type": "execute_result",
          "data": {
            "text/plain": [
              "['python', 'javascript']"
            ]
          },
          "metadata": {},
          "execution_count": 27
        }
      ]
    },
    {
      "cell_type": "code",
      "source": [
        "prog_lang = prog_lang[2:]\n",
        "print(prog_lang)"
      ],
      "metadata": {
        "colab": {
          "base_uri": "https://localhost:8080/"
        },
        "id": "R5f6ldSx_8hi",
        "outputId": "43e6de23-0d19-4c83-98f6-ff904b94bb49"
      },
      "execution_count": 29,
      "outputs": [
        {
          "output_type": "stream",
          "name": "stdout",
          "text": [
            "['php', 'java', 'ruby', 'c', 'c#']\n"
          ]
        }
      ]
    },
    {
      "cell_type": "markdown",
      "source": [
        "Tuple"
      ],
      "metadata": {
        "id": "VI_qEHm8AyRZ"
      }
    },
    {
      "cell_type": "code",
      "source": [
        "dimensions = (1, 200, 45)\n",
        "dimensions"
      ],
      "metadata": {
        "colab": {
          "base_uri": "https://localhost:8080/"
        },
        "id": "rjS88u7cAIbz",
        "outputId": "d8e3adbe-d5da-43e9-ddf8-98e61ce18f82"
      },
      "execution_count": 30,
      "outputs": [
        {
          "output_type": "execute_result",
          "data": {
            "text/plain": [
              "(1, 200, 45)"
            ]
          },
          "metadata": {},
          "execution_count": 30
        }
      ]
    },
    {
      "cell_type": "code",
      "source": [
        "dimensions[0]"
      ],
      "metadata": {
        "id": "wI3doz81A8f8",
        "outputId": "30617c41-01b5-4b0d-d94f-b7cc73ad4f7e",
        "colab": {
          "base_uri": "https://localhost:8080/"
        }
      },
      "execution_count": 31,
      "outputs": [
        {
          "output_type": "execute_result",
          "data": {
            "text/plain": [
              "1"
            ]
          },
          "metadata": {},
          "execution_count": 31
        }
      ]
    },
    {
      "cell_type": "code",
      "source": [],
      "metadata": {
        "id": "9-UadkWjA_bp"
      },
      "execution_count": null,
      "outputs": []
    }
  ]
}