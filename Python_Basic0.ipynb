{
  "nbformat": 4,
  "nbformat_minor": 0,
  "metadata": {
    "colab": {
      "provenance": [],
      "authorship_tag": "ABX9TyP3YA/ASVfKX3RGFcp36EjA",
      "include_colab_link": true
    },
    "kernelspec": {
      "name": "python3",
      "display_name": "Python 3"
    },
    "language_info": {
      "name": "python"
    }
  },
  "cells": [
    {
      "cell_type": "markdown",
      "metadata": {
        "id": "view-in-github",
        "colab_type": "text"
      },
      "source": [
        "<a href=\"https://colab.research.google.com/github/manower35/Python_Basic_Level/blob/main/Python_Basic0.ipynb\" target=\"_parent\"><img src=\"https://colab.research.google.com/assets/colab-badge.svg\" alt=\"Open In Colab\"/></a>"
      ]
    },
    {
      "cell_type": "markdown",
      "source": [
        "VARIABLES AND\n",
        "SIMPLE DATA T YPES"
      ],
      "metadata": {
        "id": "Ij2fxqtYEHCg"
      }
    },
    {
      "cell_type": "code",
      "source": [
        "print(\"Hello Python,How are you\")"
      ],
      "metadata": {
        "colab": {
          "base_uri": "https://localhost:8080/"
        },
        "id": "bqySsIG1EYj2",
        "outputId": "bf68daff-3b84-4a51-cfa8-9dc508c12d3b"
      },
      "execution_count": 1,
      "outputs": [
        {
          "output_type": "stream",
          "name": "stdout",
          "text": [
            "Hello Python,How are you\n"
          ]
        }
      ]
    },
    {
      "cell_type": "code",
      "source": [
        "import sys\n",
        "print(sys.version)"
      ],
      "metadata": {
        "colab": {
          "base_uri": "https://localhost:8080/"
        },
        "id": "Nidsh8uQEnzf",
        "outputId": "d190ec17-6f67-48c3-c810-ad8b4b292ebe"
      },
      "execution_count": 3,
      "outputs": [
        {
          "output_type": "stream",
          "name": "stdout",
          "text": [
            "3.11.13 (main, Jun  4 2025, 08:57:29) [GCC 11.4.0]\n"
          ]
        }
      ]
    },
    {
      "cell_type": "code",
      "execution_count": 6,
      "metadata": {
        "colab": {
          "base_uri": "https://localhost:8080/"
        },
        "id": "fixNc5HAEEnf",
        "outputId": "f69ac8e8-034e-485f-b7d6-74f13fdd2a8d"
      },
      "outputs": [
        {
          "output_type": "stream",
          "name": "stdout",
          "text": [
            "34\n",
            "SuperWidget\n",
            "False\n"
          ]
        }
      ],
      "source": [
        "# The '=' sign is called the \"assignment operator\".\n",
        "# It assigns the value on the right to the variable name on the left.\n",
        "\n",
        "customer_age = 34\n",
        "product_name = \"SuperWidget\"\n",
        "is_fraudulent = False\n",
        "\n",
        "print(customer_age)\n",
        "print(product_name)\n",
        "print(is_fraudulent)"
      ]
    },
    {
      "cell_type": "markdown",
      "source": [
        "Naming Rules (The Essentials):\n",
        "\n",
        "Must start with a letter or an underscore (_).\n",
        "\n",
        "Cannot start with a number.\n",
        "\n",
        "Can only contain letters, numbers, and underscores.\n",
        "\n",
        "Names are case-sensitive (age is different from Age).\n",
        "\n",
        "Best Practice: Use descriptive, lowercase names with underscores (this is called snake_case), like patient_heart_rate or model_accuracy."
      ],
      "metadata": {
        "id": "lptx265GHFVj"
      }
    },
    {
      "cell_type": "markdown",
      "source": [
        "Integers (int)"
      ],
      "metadata": {
        "id": "oplS9i3hHZKc"
      }
    },
    {
      "cell_type": "code",
      "source": [
        "# Number of patients in a clinical trial\n",
        "number_of_patients = 150\n",
        "\n",
        "# The number of times we will show our data to the model\n",
        "training_epochs = 10\n",
        "\n",
        "print(number_of_patients)"
      ],
      "metadata": {
        "colab": {
          "base_uri": "https://localhost:8080/"
        },
        "id": "h3AUQJ0FGwU0",
        "outputId": "683b70b7-4a62-4322-9ce4-0b824e094862"
      },
      "execution_count": 7,
      "outputs": [
        {
          "output_type": "stream",
          "name": "stdout",
          "text": [
            "150\n"
          ]
        }
      ]
    },
    {
      "cell_type": "markdown",
      "source": [
        "Floating-Point Numbers (float)"
      ],
      "metadata": {
        "id": "1RrnWBQWHlVr"
      }
    },
    {
      "cell_type": "code",
      "source": [
        "# A model's accuracy on a test set\n",
        "model_accuracy = 0.925  # This means 92.5%\n",
        "\n",
        "# A patient's BMI\n",
        "patient_bmi = 24.8\n",
        "\n",
        "print(model_accuracy)"
      ],
      "metadata": {
        "colab": {
          "base_uri": "https://localhost:8080/"
        },
        "id": "JGLKtwr-HhPM",
        "outputId": "44001e2f-098f-491e-94f6-e4e5a9974c72"
      },
      "execution_count": 8,
      "outputs": [
        {
          "output_type": "stream",
          "name": "stdout",
          "text": [
            "0.925\n"
          ]
        }
      ]
    },
    {
      "cell_type": "markdown",
      "source": [
        "Strings (str)"
      ],
      "metadata": {
        "id": "r-0mE7aIHzmk"
      }
    },
    {
      "cell_type": "code",
      "source": [
        "# The text from a customer email\n",
        "email_subject = \"Urgent: Issue with my order\"\n",
        "\n",
        "# The predicted class for an image\n",
        "image_prediction = \"cat\"\n",
        "\n",
        "print(email_subject)"
      ],
      "metadata": {
        "colab": {
          "base_uri": "https://localhost:8080/"
        },
        "id": "1CfRaoiEHs-V",
        "outputId": "3fed2b5e-2d73-4abd-96ba-fa8884998e84"
      },
      "execution_count": 9,
      "outputs": [
        {
          "output_type": "stream",
          "name": "stdout",
          "text": [
            "Urgent: Issue with my order\n"
          ]
        }
      ]
    },
    {
      "cell_type": "markdown",
      "source": [
        "Booleans (bool)"
      ],
      "metadata": {
        "id": "IAqb6EhGIG91"
      }
    },
    {
      "cell_type": "code",
      "source": [
        "# A model predicts if an email is spam or not\n",
        "is_spam = True\n",
        "\n",
        "# A variable to track if a patient has a specific condition\n",
        "has_diabetes = False\n",
        "\n",
        "print(is_spam)"
      ],
      "metadata": {
        "colab": {
          "base_uri": "https://localhost:8080/"
        },
        "id": "flk21NOGIAp_",
        "outputId": "d8a5d045-4891-4ff0-da51-644cb9faecbd"
      },
      "execution_count": 10,
      "outputs": [
        {
          "output_type": "stream",
          "name": "stdout",
          "text": [
            "True\n"
          ]
        }
      ]
    },
    {
      "cell_type": "code",
      "source": [
        "# Patient Record\n",
        "\n",
        "patient_id = \"pn-98721\"\n",
        "age = 68\n",
        "body_temperature = 38.5\n",
        "is_high_risk = True\n",
        "\n",
        "# Checking Data Types\n",
        "print(type(patient_id))\n",
        "print(type(age))\n",
        "print(type(body_temperature))\n",
        "print(type(is_high_risk))"
      ],
      "metadata": {
        "colab": {
          "base_uri": "https://localhost:8080/"
        },
        "id": "FK6QRk56IQPx",
        "outputId": "2e34f406-155b-45e8-aa92-5af695877c0a"
      },
      "execution_count": 13,
      "outputs": [
        {
          "output_type": "stream",
          "name": "stdout",
          "text": [
            "<class 'str'>\n",
            "<class 'int'>\n",
            "<class 'float'>\n",
            "<class 'bool'>\n"
          ]
        }
      ]
    },
    {
      "cell_type": "code",
      "source": [],
      "metadata": {
        "id": "tz7dT1cRJJL7"
      },
      "execution_count": null,
      "outputs": []
    }
  ]
}